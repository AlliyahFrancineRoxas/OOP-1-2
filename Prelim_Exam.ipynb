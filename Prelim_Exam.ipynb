{
  "nbformat": 4,
  "nbformat_minor": 0,
  "metadata": {
    "colab": {
      "name": "Prelim Exam.ipynb",
      "provenance": [],
      "authorship_tag": "ABX9TyO+6rpRyi1CXR9ffmMjvVFX",
      "include_colab_link": true
    },
    "kernelspec": {
      "name": "python3",
      "display_name": "Python 3"
    },
    "language_info": {
      "name": "python"
    }
  },
  "cells": [
    {
      "cell_type": "markdown",
      "metadata": {
        "id": "view-in-github",
        "colab_type": "text"
      },
      "source": [
        "<a href=\"https://colab.research.google.com/github/AlliyahFrancineRoxas/OOP-1-2/blob/main/Prelim_Exam.ipynb\" target=\"_parent\"><img src=\"https://colab.research.google.com/assets/colab-badge.svg\" alt=\"Open In Colab\"/></a>"
      ]
    },
    {
      "cell_type": "markdown",
      "source": [
        "###PROBLEM 2\n",
        "#####Write a Python to display your full name, student number, age, and course.\n",
        "#####Create a class named Student with attributes: Name, Student_No, Age, School, and Course.\n",
        "#####Create an object name Myself and assign an instance for each attribute.\n",
        "#####Create a method Info() using an instantiation of a class.\n",
        "#####Insert your GitHub link \" Prelim Exam\" for your repository named \"OOP 1-2\"."
      ],
      "metadata": {
        "id": "Z267BGi_rgf5"
      }
    },
    {
      "cell_type": "code",
      "source": [
        "class Student:\n",
        "  def __init__(self, Name, Student_No, Age, School, Course):\n",
        "    self.Name = Name\n",
        "    self.Student_No = Student_No\n",
        "    self.Age = Age\n",
        "    self.School = School\n",
        "    self.Course = Course\n",
        "\n",
        "  def Info(self):\n",
        "    print(self.Name, self.Student_No, self.Age, self.School, self.Course)\n",
        "\n",
        "Myself = Student(\"Alliyah Francine J. Roxas\", \"202102290\", \"19 years of age\", \"Cavite State University(Main Campus)\", \"Bachelor of Science in Computer Engineering (BSCPE)\")\n",
        "\n",
        "print(\"Name:\", Myself.Name)\n",
        "print(\"Student no. :\", Myself.Student_No)\n",
        "print(\"Age:\", Myself.Age)\n",
        "print(\"School:\", Myself.School)\n",
        "print(\"Course:\", Myself.Course)"
      ],
      "metadata": {
        "colab": {
          "base_uri": "https://localhost:8080/"
        },
        "id": "B2Bwh_V6rrqo",
        "outputId": "5b3ada78-2032-4f3c-f999-1d7496a143e8"
      },
      "execution_count": 5,
      "outputs": [
        {
          "output_type": "stream",
          "name": "stdout",
          "text": [
            "Name: Alliyah Francine J. Roxas\n",
            "Student no. : 202102290\n",
            "Age: 19 years of age\n",
            "School: Cavite State University(Main Campus)\n",
            "Course: Bachelor of Science in Computer Engineering (BSCPE)\n"
          ]
        }
      ]
    }
  ]
}