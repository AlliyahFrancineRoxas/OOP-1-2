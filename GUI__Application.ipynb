{
  "nbformat": 4,
  "nbformat_minor": 0,
  "metadata": {
    "colab": {
      "name": "GUI._Application.ipynb",
      "provenance": [],
      "authorship_tag": "ABX9TyNdUOe47stkvtVcu9weqLIU",
      "include_colab_link": true
    },
    "kernelspec": {
      "name": "python3",
      "display_name": "Python 3"
    },
    "language_info": {
      "name": "python"
    }
  },
  "cells": [
    {
      "cell_type": "markdown",
      "metadata": {
        "id": "view-in-github",
        "colab_type": "text"
      },
      "source": [
        "<a href=\"https://colab.research.google.com/github/AlliyahFrancineRoxas/OOP-1-2/blob/main/GUI__Application.ipynb\" target=\"_parent\"><img src=\"https://colab.research.google.com/assets/colab-badge.svg\" alt=\"Open In Colab\"/></a>"
      ]
    },
    {
      "cell_type": "code",
      "execution_count": 3,
      "metadata": {
        "colab": {
          "base_uri": "https://localhost:8080/"
        },
        "id": "fvN-pT1WH1TH",
        "outputId": "71320f30-8583-4a85-c7ca-5044b45eba1d"
      },
      "outputs": [
        {
          "output_type": "stream",
          "name": "stdout",
          "text": [
            "The prelim grade of student 1 is 99\n",
            "The midterm grade of student 1 is 99\n",
            "The final grade of student 1 is 99\n",
            "The semestral grade of student 1 is 99.0\n",
            "His Gender is Female\n",
            "Female\n"
          ]
        }
      ],
      "source": [
        "#@title Students Grade in OOP\n",
        "\n",
        "Student_Name1 = \"ROXAS, ALLIYAH FRANCINE\" #@param{type: \"string\"}\n",
        "prelim = 99 #@param{type: \"number\"}\n",
        "midterm = 99#@param{type: \"number\"}\n",
        "final = 99#@param{type: \"number\"}\n",
        "semestral_grade = (prelim+midterm+final)/3\n",
        "\n",
        "print(\"The prelim grade of student 1 is \"+str(prelim))\n",
        "print(\"The midterm grade of student 1 is \"+str(midterm))\n",
        "print(\"The final grade of student 1 is \"+str(final))\n",
        "print(\"The semestral grade of student 1 is \"+str(semestral_grade))\n",
        "\n",
        "Gender = \"Female\"#@param[\"Male\",\"Female\"]\n",
        "print(\"His Gender is \"+str(Gender))\n",
        "print(Gender)\n",
        "\n",
        "Birthdate = '2003-03-05'#@param{type: \"date\"}"
      ]
    }
  ]
}