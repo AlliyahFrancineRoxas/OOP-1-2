{
  "nbformat": 4,
  "nbformat_minor": 0,
  "metadata": {
    "colab": {
      "name": "Activity 2.ipynb",
      "provenance": [],
      "authorship_tag": "ABX9TyOIRNUMpHWYvjaIv7+3Qoml",
      "include_colab_link": true
    },
    "kernelspec": {
      "name": "python3",
      "display_name": "Python 3"
    },
    "language_info": {
      "name": "python"
    }
  },
  "cells": [
    {
      "cell_type": "markdown",
      "metadata": {
        "id": "view-in-github",
        "colab_type": "text"
      },
      "source": [
        "<a href=\"https://colab.research.google.com/github/AlliyahFrancineRoxas/OOP-1-2/blob/main/Activity_2.ipynb\" target=\"_parent\"><img src=\"https://colab.research.google.com/assets/colab-badge.svg\" alt=\"Open In Colab\"/></a>"
      ]
    },
    {
      "cell_type": "markdown",
      "source": [
        "ACTIVITY #2"
      ],
      "metadata": {
        "id": "JL2BBG8P3E4b"
      }
    },
    {
      "cell_type": "code",
      "execution_count": null,
      "metadata": {
        "colab": {
          "base_uri": "https://localhost:8080/"
        },
        "id": "8L3i0IiRpIf8",
        "outputId": "abb5fb6a-360a-4880-f5af-8a75e9fd32d6"
      },
      "outputs": [
        {
          "output_type": "stream",
          "name": "stdout",
          "text": [
            "Input temperature in celsius: 44\n",
            "111.2\n"
          ]
        }
      ],
      "source": [
        "#Write a python program that converts the tempereature Celsius to Fahrenheit. Create a class name Temperature.\n",
        "#Create Celsius as attribute name,Temp() as method and temp as object name.F=1.8xC+32\n",
        "\n",
        "class Temperature:\n",
        "    temp = 0\n",
        "\n",
        "    def __init__(self, Celsius):\n",
        "        self.Celsius = Celsius\n",
        "\n",
        "\n",
        "    def Temp(self):\n",
        "      return((1.8* self.Celsius)+ 32)\n",
        "\n",
        "\n",
        "input_temp = float(input(\"Input temperature in celsius: \"))\n",
        "temp1 = Temperature(input_temp)\n",
        "print(round(temp1.Temp(),2))"
      ]
    },
    {
      "cell_type": "markdown",
      "source": [
        "####ASSIGNMENT #2"
      ],
      "metadata": {
        "id": "vGsjPfeJ3MkU"
      }
    },
    {
      "cell_type": "code",
      "source": [
        "#Define an Area() method of the class that calculates the circle’s area.\n",
        "\n",
        "class Area:\n",
        "  def __init__(self, radius):\n",
        "    self.radius = radius\n",
        "\n",
        "  def Area(self):\n",
        "    return (3.14*(self.radius*self.radius))\n",
        "\n",
        "input_radius = float(input(\"Input the radius of the Circle: \"))\n",
        "area1 = Area(input_radius)\n",
        "print(\"The Area of the Circle is: \",area1.Area())"
      ],
      "metadata": {
        "colab": {
          "base_uri": "https://localhost:8080/"
        },
        "id": "gM2UU9ny2Hzv",
        "outputId": "e692110e-1ad8-4203-a85e-07ee564a6b72"
      },
      "execution_count": 9,
      "outputs": [
        {
          "output_type": "stream",
          "name": "stdout",
          "text": [
            "Input the radius of the Circle: 7\n",
            "The Area of the Circle is:  153.86\n"
          ]
        }
      ]
    },
    {
      "cell_type": "code",
      "source": [
        "#Define a Perimeter() method of the class which allows you to calculate the perimeter of the circle.\n",
        "\n",
        "class Perimeter:\n",
        "  def __init__(self, radius):\n",
        "   self.radius = radius\n",
        "\n",
        "  def Perimeter(self):\n",
        "    return (2*3.14*self.radius)\n",
        "\n",
        "input_radius = float(input(\"Input the radius of the Circle: \"))\n",
        "perim1 = Perimeter(input_radius)\n",
        "print(\"The Perimeter of the Circle is: \", perim1.Perimeter())"
      ],
      "metadata": {
        "colab": {
          "base_uri": "https://localhost:8080/"
        },
        "id": "1Tnhjt0V2Nom",
        "outputId": "a63c9047-a8a9-4463-a66d-316f9a5e1ca6"
      },
      "execution_count": 10,
      "outputs": [
        {
          "output_type": "stream",
          "name": "stdout",
          "text": [
            "Input the radius of the Circle: 7\n",
            "The Perimeter of the Circle is:  43.96\n"
          ]
        }
      ]
    }
  ]
}