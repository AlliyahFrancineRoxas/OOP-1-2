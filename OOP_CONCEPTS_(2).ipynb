{
  "nbformat": 4,
  "nbformat_minor": 0,
  "metadata": {
    "colab": {
      "name": "OOP CONCEPTS (2).ipynb",
      "provenance": [],
      "authorship_tag": "ABX9TyPKENOnQQvrDmLr+n6cEh61",
      "include_colab_link": true
    },
    "kernelspec": {
      "name": "python3",
      "display_name": "Python 3"
    },
    "language_info": {
      "name": "python"
    }
  },
  "cells": [
    {
      "cell_type": "markdown",
      "metadata": {
        "id": "view-in-github",
        "colab_type": "text"
      },
      "source": [
        "<a href=\"https://colab.research.google.com/github/AlliyahFrancineRoxas/OOP-1-2/blob/main/OOP_CONCEPTS_(2).ipynb\" target=\"_parent\"><img src=\"https://colab.research.google.com/assets/colab-badge.svg\" alt=\"Open In Colab\"/></a>"
      ]
    },
    {
      "cell_type": "markdown",
      "source": [
        "##Classes with multiple objects"
      ],
      "metadata": {
        "id": "EX9xy8DJK2us"
      }
    },
    {
      "cell_type": "code",
      "source": [
        "class Birds:\n",
        "  def __init__(self, bird_name):\n",
        "    self.bird_name = bird_name\n",
        "\n",
        "  def flying_birds(self):\n",
        "    print(f\"{self.bird_name} flies above clouds\")\n",
        "\n",
        "  def non_flying_birds(self):\n",
        "    print(f\"{self.bird_name} is the national bird of the Philippines\")\n",
        "\n",
        "vulture = Birds(\"Griffon Vulture\")\n",
        "crane = Birds(\"Common Crane\")\n",
        "emu = Birds(\"Emu\")\n",
        "\n",
        "vulture.flying_birds()\n",
        "crane.flying_birds()\n",
        "emu.non_flying_birds()"
      ],
      "metadata": {
        "colab": {
          "base_uri": "https://localhost:8080/"
        },
        "id": "fHpfVSqnK63R",
        "outputId": "5f907b79-7a9e-4e35-ff85-0805653456ea"
      },
      "execution_count": 3,
      "outputs": [
        {
          "output_type": "stream",
          "name": "stdout",
          "text": [
            "Griffon Vulture flies above clouds\n",
            "Common Crane flies above clouds\n",
            "Emu is the national bird of the Philippines\n"
          ]
        }
      ]
    },
    {
      "cell_type": "markdown",
      "source": [
        "####Encapsulation using mangling with double underscores"
      ],
      "metadata": {
        "id": "KRQ6tS-FLMoC"
      }
    },
    {
      "cell_type": "code",
      "source": [
        "class foo:\n",
        "  def __init__(self, a, b):\n",
        "    self.__a = a\n",
        "    self.__b = b\n",
        "\n",
        "  def add(self):\n",
        "    return self.__a + self.__b    #Private attributes\n",
        "\n",
        "number = foo(3,4)\n",
        "number.add()\n",
        "\n",
        "number.a = 7    #7+4 = 11\n",
        "number.add()"
      ],
      "metadata": {
        "colab": {
          "base_uri": "https://localhost:8080/"
        },
        "id": "pLfsaozlLOL4",
        "outputId": "19a63cf6-3161-4237-aa5c-4111fc442108"
      },
      "execution_count": 4,
      "outputs": [
        {
          "output_type": "execute_result",
          "data": {
            "text/plain": [
              "7"
            ]
          },
          "metadata": {},
          "execution_count": 4
        }
      ]
    },
    {
      "cell_type": "markdown",
      "source": [
        "###Encapsulation with Private Attributes"
      ],
      "metadata": {
        "id": "mL7nub3qLU45"
      }
    },
    {
      "cell_type": "code",
      "source": [
        "class Counter:\n",
        "  def __init__(self):\n",
        "    self.__current = 0\n",
        "\n",
        "  def increment(self):\n",
        "    self.__current += 1  \n",
        "  def value(self):\n",
        "    return self.__current\n",
        "  def reset(self):\n",
        "    self.__current = 0\n",
        "\n",
        "num = Counter()\n",
        "\n",
        "num.increment()       #counter = counter + 1\n",
        "num.increment()\n",
        "num.increment()\n",
        "\n",
        "num.counter = 1\n",
        "\n",
        "\n",
        "num.value()"
      ],
      "metadata": {
        "colab": {
          "base_uri": "https://localhost:8080/"
        },
        "id": "Y8DcxW2oLWHB",
        "outputId": "096d7a7c-398d-4d8d-eac5-8a1a1cf27b9f"
      },
      "execution_count": 5,
      "outputs": [
        {
          "output_type": "execute_result",
          "data": {
            "text/plain": [
              "3"
            ]
          },
          "metadata": {},
          "execution_count": 5
        }
      ]
    },
    {
      "cell_type": "markdown",
      "source": [
        "####Inheretance"
      ],
      "metadata": {
        "id": "UZqOQ9BfLk5E"
      }
    },
    {
      "cell_type": "code",
      "source": [
        "class Person:\n",
        "  def __init__(self, firstname, surname):\n",
        "    self.firstname = firstname\n",
        "    self.surname = surname\n",
        "\n",
        "  def printname(self):\n",
        "    print(self.firstname, self.surname)\n",
        "\n",
        "person = Person(\"Alliyah\", \"Roxas\")\n",
        "person.printname()\n",
        "\n",
        "class Teacher(Person):\n",
        "  pass \n",
        "\n",
        "person2 = Teacher(\"Maria\", \"Sayo\")\n",
        "person2.printname()\n",
        "\n",
        "class Student(Person):\n",
        "  pass\n",
        "\n",
        "person3 = Student(\"Donny\", \"Pangilinan\")\n",
        "person3.printname()"
      ],
      "metadata": {
        "colab": {
          "base_uri": "https://localhost:8080/"
        },
        "id": "JGCy2NQbLmHM",
        "outputId": "fe7664be-5c61-4ab0-fa53-33c07c02032a"
      },
      "execution_count": 9,
      "outputs": [
        {
          "output_type": "stream",
          "name": "stdout",
          "text": [
            "Alliyah Roxas\n",
            "Maria Sayo\n",
            "Donny Pangilinan\n"
          ]
        }
      ]
    },
    {
      "cell_type": "markdown",
      "source": [
        "####Polymorphism"
      ],
      "metadata": {
        "id": "Fd9zQK0bLx9p"
      }
    },
    {
      "cell_type": "code",
      "source": [
        "class RegularPolygon:\n",
        "  def __init__(self, side):\n",
        "    self.side = side\n",
        "  \n",
        "class Square(RegularPolygon):\n",
        "  def area(self):\n",
        "    return self.side*self.side\n",
        "\n",
        "class EquilateralTriangle(RegularPolygon):\n",
        "  def area(self):\n",
        "    return self.side*self.side*0.433\n",
        "\n",
        "object = Square(4)\n",
        "print(object.area())\n",
        "\n",
        "object2 = EquilateralTriangle(3)\n",
        "print(object2.area())"
      ],
      "metadata": {
        "colab": {
          "base_uri": "https://localhost:8080/"
        },
        "id": "vhE7-yxrLzxZ",
        "outputId": "8646e713-8a23-43bd-dfd6-da3c36bcc9a0"
      },
      "execution_count": 8,
      "outputs": [
        {
          "output_type": "stream",
          "name": "stdout",
          "text": [
            "16\n",
            "3.897\n"
          ]
        }
      ]
    },
    {
      "cell_type": "markdown",
      "source": [
        "Application 1\n",
        "\n",
        "1.Create a Python program that displays the name of three students (Students 1,Student 2, and Student 3) and their term grades.\n",
        "\n",
        "2.Create a class name Person and attributes - std1, std2, std3, pre, mid, fin\n",
        "\n",
        "3.Compute the average of each term grade using Grade() method.\n",
        "\n",
        "4.Information about student's grades must be hidden from others"
      ],
      "metadata": {
        "id": "-qSo4BWtL2sh"
      }
    },
    {
      "cell_type": "code",
      "source": [
        "class Person:\n",
        "  def __init__(self, fullname, prelim, midterm, final):\n",
        "    self.fullname=fullname\n",
        "    self.pre=prelim\n",
        "    self.mid=midterm\n",
        "    self.fin=final\n",
        "\n",
        "  def ave(self):\n",
        "    self.average=(self.pre+self.mid+self.fin)/3\n",
        "\n",
        "  def show(self):\n",
        "    self.ave()\n",
        "    if self.average >= 75:\n",
        "      self.remarks=\"Passed\"\n",
        "    else:\n",
        "      self.remarks=\"Failed\"\n",
        "    print(\"Average:{} ({})\".format(round(self.average,0),self.remarks))\n",
        "\n",
        "print()\n",
        "print(\"Student 1 Grade and Average: \")\n",
        "print()\n",
        "fullname=str(input(\"Name: \"))\n",
        "prelim=float(input(\"Prelim: \"))\n",
        "midterm=float(input(\"Midterm: \"))\n",
        "final=float(input(\"Final: \"))\n",
        "\n",
        "stud1=Person(fullname,prelim,midterm,final)\n",
        "stud1.show()\n",
        "print(\"\\n\")\n",
        "\n",
        "print(\"Student 2 Grade and Average: \")\n",
        "print()\n",
        "fullname=str(input(\"Name: \"))\n",
        "prelim=float(input(\"Prelim: \"))\n",
        "midterm=float(input(\"Midterm: \"))\n",
        "final=float(input(\"Final: \"))\n",
        "\n",
        "stud2=Person(fullname,prelim,midterm,final)\n",
        "stud2.show()\n",
        "print(\"\\n\")\n",
        "\n",
        "print()\n",
        "fullname=str(input(\"Name: \"))\n",
        "prelim=float(input(\"Prelim: \"))\n",
        "midterm=float(input(\"Midterm: \"))\n",
        "final=float(input(\"Final: \"))\n",
        "\n",
        "stud3=Person(fullname,prelim,midterm,final)\n",
        "stud3.show()"
      ],
      "metadata": {
        "colab": {
          "base_uri": "https://localhost:8080/"
        },
        "id": "aeC7SZiWL4hq",
        "outputId": "e6c0ee1c-d674-43db-e412-7cf9e8566c41"
      },
      "execution_count": 98,
      "outputs": [
        {
          "output_type": "stream",
          "name": "stdout",
          "text": [
            "\n",
            "Student 1 Grade and Average: \n",
            "\n",
            "Name: ALLIYAH FRANCINE J. ROXAS\n",
            "Prelim: 90.4\n",
            "Midterm: 96\n",
            "Final: 94.6\n",
            "Average:94.0 (Passed)\n",
            "\n",
            "\n",
            "Student 2 Grade and Average: \n",
            "\n",
            "Name: KURL ANGELO C. OSEMA\n",
            "Prelim: 96\n",
            "Midterm: 90\n",
            "Final: 96.8\n",
            "Average:94.0 (Passed)\n",
            "\n",
            "\n",
            "\n",
            "Name: JHONLUN KIEFER J. TARGA\n",
            "Prelim: 95\n",
            "Midterm: 89\n",
            "Final: 88.5\n",
            "Average:91.0 (Passed)\n"
          ]
        }
      ]
    }
  ]
}